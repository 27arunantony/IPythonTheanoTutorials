{
 "metadata": {
  "name": "Logistic Regression with Theano"
 },
 "nbformat": 3,
 "nbformat_minor": 0,
 "worksheets": [
  {
   "cells": [
    {
     "cell_type": "markdown",
     "metadata": {},
     "source": [
      "# Logistic Regression with Theano (WIP)\n",
      "\n",
      "This tutorial illustrates how to fit a ridge regression (aka $\\ell_2$-regularized logistic regression) model to some dummy data, using Theano.\n"
     ]
    },
    {
     "cell_type": "code",
     "collapsed": false,
     "input": [
      "# Initial imports\n",
      "import numpy as np\n",
      "import theano.tensor as T\n",
      "from theano import shared, function\n",
      "rng = np.random.RandomState(123)\n"
     ],
     "language": "python",
     "metadata": {},
     "outputs": [],
     "prompt_number": 4
    },
    {
     "cell_type": "code",
     "collapsed": false,
     "input": [
      "# Create a sample logistic regression problem.\n",
      "true_w = rng.randn(100)\n",
      "true_b = rng.randn()\n",
      "xdata = rng.randn(50, 100)\n",
      "ydata = (np.dot(xdata, true_w) + true_b) > 0.0"
     ],
     "language": "python",
     "metadata": {},
     "outputs": [],
     "prompt_number": 5
    },
    {
     "cell_type": "code",
     "collapsed": false,
     "input": [
      "# Step 1. Declare Theano variables\n",
      "x = T.dmatrix()\n",
      "y = T.dvector()\n",
      "w = shared(rng.randn(100))\n",
      "b = shared(numpy.zeros(()))\n",
      "print \"Initial model\"\n",
      "print w.get_value()\n",
      "print b.get_value()\n"
     ],
     "language": "python",
     "metadata": {},
     "outputs": [],
     "prompt_number": 10
    },
    {
     "cell_type": "code",
     "collapsed": true,
     "input": [
      "# Step 2. Construct Theano expression graph\n",
      "p_1 = 1 / (1 + T.exp(-T.dot(x, w) - b))\n",
      "xent = -y * T.log(p_1) - (1 - y) * T.log(1 - p_1)\n",
      "prediction = p_1 > 0.5\n",
      "cost = xent.mean() + 0.01 * (w ** 2).sum()\n",
      "gw, gb = T.grad(cost, [w, b])"
     ],
     "language": "python",
     "metadata": {},
     "outputs": [],
     "prompt_number": 11
    },
    {
     "cell_type": "code",
     "collapsed": true,
     "input": [
      "# Step 3. Compile expressions to functions\n",
      "train = function(inputs=[x, y],\n",
      "                 outputs=[prediction, xent],\n",
      "                 updates={w:w - 0.1 * gw,\n",
      "                          b:b - 0.1 * gb})"
     ],
     "language": "python",
     "metadata": {},
     "outputs": [],
     "prompt_number": 12
    },
    {
     "cell_type": "code",
     "collapsed": false,
     "input": [
      "# Step 4. Perform computation\n",
      "for loop in range(100):\n",
      "    pval, xval = train(xdata, ydata)\n",
      "    print xval.mean()"
     ],
     "language": "python",
     "metadata": {},
     "outputs": [],
     "prompt_number": 16
    }
   ],
   "metadata": {}
  }
 ]
}