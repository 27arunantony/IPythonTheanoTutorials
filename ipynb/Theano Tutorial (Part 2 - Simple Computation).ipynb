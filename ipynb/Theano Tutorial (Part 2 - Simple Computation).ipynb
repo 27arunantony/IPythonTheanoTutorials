{
 "metadata": {
  "name": "Theano Tutorial (Part 2 - Simple Computation)"
 },
 "nbformat": 3,
 "nbformat_minor": 0,
 "worksheets": [
  {
   "cells": [
    {
     "cell_type": "markdown",
     "metadata": {},
     "source": [
      "# Theano Tutorial (Part 2 - Simple Computation)\n",
      "\n",
      "In this first Theano tutorial we'll see how to do a simple calculation involving scalars and matrices."
     ]
    },
    {
     "cell_type": "markdown",
     "metadata": {},
     "source": [
      "## Adding two Scalars\n",
      "\n",
      "To get us started with Theano and get a feel of what we're working with, \n",
      "let's make a simple function: add two numbers together. Here is how you do\n",
      "it:\n"
     ]
    },
    {
     "cell_type": "code",
     "collapsed": false,
     "input": [
      "import theano.tensor as T\n",
      "from theano import function\n",
      "x = T.dscalar('x')\n",
      "y = T.dscalar('y')\n",
      "z = x + y\n",
      "f = function([x, y], z)"
     ],
     "language": "python",
     "metadata": {},
     "outputs": []
    },
    {
     "cell_type": "markdown",
     "metadata": {},
     "source": [
      "And now that we've created our function we can use it:\n"
     ]
    },
    {
     "cell_type": "code",
     "collapsed": false,
     "input": [
      "f(2, 3)\n",
      "f(16.3, 12.1)"
     ],
     "language": "python",
     "metadata": {},
     "outputs": []
    },
    {
     "cell_type": "markdown",
     "metadata": {},
     "source": [
      "Let's break this down into several steps. The first step is to define\n",
      "two symbols (*Variables*) representing the quantities that you want\n",
      "to add. Note that from now on, we will use the term \n",
      "*Variable* to mean \"symbol\" (in other words, \n",
      "*x*, *y*, *z* are all *Variable* objects). The output of the function \n",
      "*f* is a ``numpy.ndarray`` with zero dimensions.\n",
      "\n",
      "If you are following along and typing into an interpreter, you may have\n",
      "noticed that there was a slight delay in executing the ``function``\n",
      "instruction. Behind the scene, *f* was being compiled into C code.\n"
     ]
    },
    {
     "cell_type": "markdown",
     "metadata": {},
     "source": [
      "### note:\n",
      "\n",
      "A *Variable* is the main data structure you work with when\n",
      "using Theano. The symbolic inputs that you operate on are\n",
      "*Variables* and what you get from applying various operations to\n",
      "these inputs are also *Variables*. For example, when I type\n",
      "\"`x = theano.tensor.ivector(); y = -x`\" then *x* and *y* are both Variables, i.e. instances of the\n",
      "``theano.gof.graph.Variable`` class. The\n",
      "type of both *x* and *y* is ``theano.tensor.ivector``.\n"
     ]
    },
    {
     "cell_type": "markdown",
     "metadata": {},
     "source": [
      "### Step 1"
     ]
    },
    {
     "cell_type": "code",
     "collapsed": false,
     "input": [
      "x = T.dscalar('x')\n",
      "y = T.dscalar('y')"
     ],
     "language": "python",
     "metadata": {},
     "outputs": []
    },
    {
     "cell_type": "markdown",
     "metadata": {},
     "source": [
      "In Theano, all symbols must be typed. In particular, ``T.dscalar``\n",
      "is the type we assign to \"0-dimensional arrays (`scalar`) of doubles\n",
      "(`d`)\". It is a Theano :ref:`type`.\n",
      "\n",
      "``dscalar`` is not a class. Therefore, neither *x* nor *y*\n",
      "are actually instances of ``dscalar``. They are instances of\n",
      ":class:`TensorVariable`. *x* and *y*\n",
      "are, however, assigned the theano Type ``dscalar`` in their ``type``\n",
      "field, as you can see here:\n"
     ]
    },
    {
     "cell_type": "code",
     "collapsed": false,
     "input": [
      "type(x)\n",
      "x.type\n",
      "T.dscalar\n",
      "x.type is T.dscalar"
     ],
     "language": "python",
     "metadata": {},
     "outputs": []
    },
    {
     "cell_type": "markdown",
     "metadata": {},
     "source": [
      "By calling ``T.dscalar`` with a string argument, you create a\n",
      "*Variable* representing a floating-point scalar quantity with the\n",
      "given name. If you provide no argument, the symbol will be unnamed. Names\n",
      "are not required, but they can help debugging.\n",
      "\n",
      "More will be said in a moment regarding Theano's inner structure. You\n",
      "could also learn more by looking into :ref:`graphstructures`.\n"
     ]
    },
    {
     "cell_type": "markdown",
     "metadata": {},
     "source": [
      "### Step 2\n",
      "The second step is to combine *x* and *y* into their sum *z*:\n",
      "\n"
     ]
    },
    {
     "cell_type": "code",
     "collapsed": false,
     "input": [
      "z = x + y"
     ],
     "language": "python",
     "metadata": {},
     "outputs": []
    },
    {
     "cell_type": "markdown",
     "metadata": {},
     "source": [
      "*z* is yet another *Variable* which represents the addition of\n",
      "*x* and *y*. You can use the :ref:`pp <libdoc_printing>`\n",
      "function to pretty-print out the computation associated to *z*.\n"
     ]
    },
    {
     "cell_type": "code",
     "collapsed": false,
     "input": [
      "print pp(z)\n",
      "(x + y)"
     ],
     "language": "python",
     "metadata": {},
     "outputs": []
    },
    {
     "cell_type": "markdown",
     "metadata": {},
     "source": [
      "### Step 3\n",
      "\n",
      "The last step is to create a function taking *x* and *y* as inputs\n",
      "and giving *z* as output:\n"
     ]
    },
    {
     "cell_type": "code",
     "collapsed": false,
     "input": [
      "f = function([x, y], z)"
     ],
     "language": "python",
     "metadata": {},
     "outputs": []
    },
    {
     "cell_type": "markdown",
     "metadata": {},
     "source": [
      "The first argument to `function()` is a list of Variables\n",
      "that will be provided as inputs to the function. The second argument\n",
      "is a single Variable *or* a list of Variables. For either case, the second\n",
      "argument is what we want to see as output when we apply the function. *f* may\n",
      "then be used like a normal Python function.\n"
     ]
    },
    {
     "cell_type": "markdown",
     "metadata": {},
     "source": [
      "### Note on `eval`\n",
      "\n",
      "As a shortcut, you can skip step 3, and just use a variable's\n",
      "`eval()` method. The `eval()` method is not as flexible\n",
      "as `function()` but it can do everything we've covered in\n",
      "the tutorial so far. It has the added benefit of not requiring\n",
      "you to import `function()`. Here is how `eval()` works:\n",
      "\n",
      "    import theano.tensor as T\n",
      "    x = T.dscalar('x')\n",
      "    y = T.dscalar('y')\n",
      "    z = x + y\n",
      "    z.eval({x : 16.3, y : 12.1})\n",
      "    array(28.4)\n",
      "\n",
      "We passed :func:`eval` a dictionary mapping symbolic theano\n",
      "variables to the values to substitute for them, and it returned\n",
      "the numerical value of the expression. `eval()` will be slower the first time you call it on a variable --\n",
      "it needs to call `function()` to compile the expression behind\n",
      "the scenes. Subsequent calls to `eval()` on that same variable\n",
      "will be fast, because the variable caches the compiled function.\n"
     ]
    },
    {
     "cell_type": "markdown",
     "metadata": {},
     "source": [
      "## Adding two Matrices\n",
      "\n",
      "You might already have guessed how to do this. Indeed, the only change\n",
      "from the previous example is that you need to instantiate *x* and\n",
      "*y* using the matrix Types:\n"
     ]
    },
    {
     "cell_type": "code",
     "collapsed": false,
     "input": [
      "x = T.dmatrix('x')\n",
      "y = T.dmatrix('y')\n",
      "z = x + y\n",
      "f = function([x, y], z)"
     ],
     "language": "python",
     "metadata": {},
     "outputs": []
    },
    {
     "cell_type": "markdown",
     "metadata": {},
     "source": [
      "``dmatrix`` is the Type for matrices of doubles. Then we can use\n",
      "our new function on 2D arrays:\n"
     ]
    },
    {
     "cell_type": "code",
     "collapsed": false,
     "input": [
      "f([[1, 2], [3, 4]], [[10, 20], [30, 40]])"
     ],
     "language": "python",
     "metadata": {},
     "outputs": []
    },
    {
     "cell_type": "markdown",
     "metadata": {},
     "source": [
      "The variable is a NumPy array. We can also use NumPy arrays directly as\n",
      "inputs:"
     ]
    },
    {
     "cell_type": "code",
     "collapsed": false,
     "input": [
      "import numpy\n",
      "f(numpy.array([[1, 2], [3, 4]]), numpy.array([[10, 20], [30, 40]]))"
     ],
     "language": "python",
     "metadata": {},
     "outputs": []
    },
    {
     "cell_type": "markdown",
     "metadata": {},
     "source": [
      "It is possible to add scalars to matrices, vectors to matrices,\n",
      "scalars to vectors, etc. The behavior of these operations is defined\n",
      "by :ref:`broadcasting <libdoc_tensor_broadcastable>`.\n"
     ]
    },
    {
     "cell_type": "markdown",
     "metadata": {},
     "source": [
      "The following types are available:\n",
      "\n",
      "* **byte**: ``bscalar, bvector, bmatrix, brow, bcol, btensor3, btensor4``\n",
      "* **16-bit integers**: ``wscalar, wvector, wmatrix, wrow, wcol, wtensor3, wtensor4``\n",
      "* **32-bit integers**: ``iscalar, ivector, imatrix, irow, icol, itensor3, itensor4``\n",
      "* **64-bit integers**: ``lscalar, lvector, lmatrix, lrow, lcol, ltensor3, ltensor4``\n",
      "* **float**: ``fscalar, fvector, fmatrix, frow, fcol, ftensor3, ftensor4``\n",
      "* **double**: ``dscalar, dvector, dmatrix, drow, dcol, dtensor3, dtensor4``\n",
      "* **complex**: ``cscalar, cvector, cmatrix, crow, ccol, ctensor3, ctensor4``\n",
      "\n",
      "The previous list is not exhaustive and a guide to all types compatible\n",
      "with NumPy arrays may be found here: :ref:`tensor creation<libdoc_tensor_creation>`.\n",
      "\n",
      "\n",
      "Note that you, the user---not the system architecture---have to choose whether your\n",
      "   program will use 32- or 64-bit integers (``i`` prefix vs. the ``l`` prefix)\n",
      "   and floats (``f`` prefix vs. the ``d`` prefix)."
     ]
    },
    {
     "cell_type": "markdown",
     "metadata": {},
     "source": [
      "## Elementwise Computations (Logistic Sigmoid)\n",
      "\n",
      "Here's another straightforward example, though a bit more elaborate\n",
      "than adding two numbers together. Let's say that you want to compute\n",
      "the logistic curve, which is given by:\n",
      "\n",
      "$s(x) = \\frac{1}{1 + e^{-x})}$\n",
      "\n",
      "It's called a *sigmoid* curve because it looks \"S\"-shaped. If you plot it, you'll see why:"
     ]
    },
    {
     "cell_type": "code",
     "collapsed": false,
     "input": [
      "plot(1 / (1 + np.exp(-np.arange(-5, 5, .1))))"
     ],
     "language": "python",
     "metadata": {},
     "outputs": []
    },
    {
     "cell_type": "markdown",
     "metadata": {},
     "source": [
      "NumPy and Theano both evaluate scalar functions like this *element-wise* when operating on tensor quantities such as vectors and matrices.\n",
      "So if you want to compute the logistic sigmoid of each number in x, then you do it by applying all of the required operations -- division, addition, exponentiation, and division -- on entire tensors at once."
     ]
    },
    {
     "cell_type": "code",
     "collapsed": false,
     "input": [
      "x = T.dmatrix('x')\n",
      "s = 1 / (1 + T.exp(-x))\n",
      "logistic = function([x], s)\n",
      "print logistic([[0, 1], [-1, -2]])"
     ],
     "language": "python",
     "metadata": {},
     "outputs": []
    },
    {
     "cell_type": "markdown",
     "metadata": {},
     "source": [
      "At this point it would be wise to begin familiarizing yourself \n",
      "more systematically with Theano's fundamental objects and operations by browsing\n",
      "this section of the library: :ref:`libdoc_basic_tensor`.\n",
      " \n",
      "As the tutorial unfolds, you should also gradually acquaint yourself with the other\n",
      "relevant areas of the library and with the relevant subjects of the documentation\n",
      "entrance page."
     ]
    },
    {
     "cell_type": "markdown",
     "metadata": {},
     "source": [
      "### Exercise\n",
      "\n",
      "Modify and execute the following code to compute the expression: $a^2 + b^2 + 2 a b$."
     ]
    },
    {
     "cell_type": "code",
     "collapsed": false,
     "input": [
      "import theano\n",
      "a = theano.tensor.vector()      # declare variable\n",
      "out = a + a ** 10               # build symbolic expression\n",
      "f = theano.function([a], out)   # compile function\n",
      "print f([0, 1, 2])              # prints `array([0, 2, 1026])`"
     ],
     "language": "python",
     "metadata": {},
     "outputs": []
    }
   ],
   "metadata": {}
  }
 ]
}