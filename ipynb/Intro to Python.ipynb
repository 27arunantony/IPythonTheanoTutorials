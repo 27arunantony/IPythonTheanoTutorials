{
 "metadata": {
  "name": "Intro to Python"
 },
 "nbformat": 3,
 "nbformat_minor": 0,
 "worksheets": [
  {
   "cells": [
    {
     "cell_type": "markdown",
     "metadata": {},
     "source": [
      "# Getting Started\n",
      "\n",
      "Before we dive into deep learning algorithms, lets make sure we understand the basics of the Python language and the IPython environment. Python is an interpreted language, and the iPython environment (powering this notebook) makes Python easy to learn, and fun to play with.\n",
      "\n",
      "If you're new to Python or the IPython notebook, get started by running the following code fragment. You can run it by clicking on the code and either:\n",
      "\n",
      " * pressing the gray button above that looks like the \"play\" button on a stereo\n",
      " * pressing CTRL-ENTER when the cursor is in the box\n",
      " * using the Cell drop-down menu's \"Run\" command"
     ]
    },
    {
     "cell_type": "code",
     "collapsed": false,
     "input": [
      "print \"Hello Random World\"\n",
      "seed(123)\n",
      "imshow(rand(10, 10))"
     ],
     "language": "python",
     "metadata": {},
     "outputs": []
    },
    {
     "cell_type": "markdown",
     "metadata": {},
     "source": [
      "You can also edit the code and run it again the same way. The new output will replace the old output.\n",
      "\n",
      "If you want to play around with Python, you might take the following as a point of departure:"
     ]
    },
    {
     "cell_type": "code",
     "collapsed": false,
     "input": [
      "a = 'foo'  # -- strings are basic data types\n",
      "if 'foo' == \"foo\":\n",
      "    # single-quoted strings and double-quoted strings are the same\n",
      "    print \"\"\"\n",
      "    In Python, \"foo\" and 'foo' are the same.\n",
      "    And this is a multi-line string literal.\n",
      "    \"\"\"\n",
      "    \n",
      "b = 3.4    # -- floating point literal\n",
      "a = 5      # -- integer literal; notice `a` can be re-used for different types\n",
      "\n",
      "c  = (1, 2, 3)  # -- tuples are immutable sequences\n",
      "d  = [1, 2, 3]  # -- lists are mutable sequences\n",
      "\n",
      "e = {'a': 6, 5: 8, c: 'foo'}   # -- dictionary-creation syntax"
     ],
     "language": "python",
     "metadata": {},
     "outputs": []
    },
    {
     "cell_type": "code",
     "collapsed": false,
     "input": [
      "# -- define a function like this\n",
      "def fn(x):\n",
      "    return x + 2\n",
      "\n",
      "# -- sometimes you might see nested functions\n",
      "def f(x):\n",
      "    def g(y):\n",
      "        return x + y\n",
      "    return g\n",
      "\n",
      "add_2 = f(2)\n",
      "print 'add_2(5) =', add_2(5)\n",
      "\n",
      "# -- scoping - parameters mask variables\n",
      "x = 7  # -- global x\n",
      "def g(x): \n",
      "    #  -- local scope - here `x` refers to the argument of g, not the global.\n",
      "    print 'local x:', x\n",
      "g(12)\n",
      "print 'global x:', x"
     ],
     "language": "python",
     "metadata": {},
     "outputs": []
    },
    {
     "cell_type": "code",
     "collapsed": false,
     "input": [
      "# -- positional vs. named arguments\n",
      "def multi(a, b, c=8):\n",
      "    # -- the `%` does string formatting\n",
      "    print 'multi a=%s b=%s c=%s' % (a, b, c)\n",
      "\n",
      "# -- all parameters can be assigned positionally or by name\n",
      "multi(1, 2, 3)\n",
      "multi(4, 5)\n",
      "multi(4, 5, c=12)\n",
      "multi(a=-1, b='foo', c='bar')\n",
      "\n",
      "# -- positional arguments can be pulled from a tuple or list\n",
      "args = ('do', 're', 'mi')\n",
      "multi(*args)\n",
      "\n",
      "# -- keyword arguments can be pulled from a dictionary\n",
      "kwargs = {'a': 0, 'b': -1, 'c': 1}\n",
      "multi(**kwargs)\n",
      "\n",
      "# -- all these can be combined!\n",
      "multi(8, *(88,), **{'c': 888})\n"
     ],
     "language": "python",
     "metadata": {},
     "outputs": []
    },
    {
     "cell_type": "code",
     "collapsed": false,
     "input": [
      "# -- argument unpacking implements multiple return values\n",
      "def rmulti(a):\n",
      "    return (a, a + 1)\n",
      "\n",
      "x, y = rmulti(4)\n",
      "print x\n",
      "print y"
     ],
     "language": "python",
     "metadata": {},
     "outputs": []
    },
    {
     "cell_type": "markdown",
     "metadata": {},
     "source": [
      "There are many resources to help you get oriented to use Python for\n",
      "numeric scientific work. A quick bit of googling turned up the following ones,\n",
      "but feel free to look further.\n",
      "\n",
      "* [Unix/Python/NumPy](http://www.cs.utah.edu/~hal/courses/2009F_ML/p0/) - High-level intro to unix and Python.\n",
      "\n",
      "* [NumPy basics](http://www.scipy.org/Tentative_NumPy_Tutorial) - Semi-official NumPy tutorial\n",
      "\n",
      "* [SciPy Getting Started](http://www.scipy.org/Getting_Started) - Semi-official SciPy tutorial"
     ]
    }
   ],
   "metadata": {}
  }
 ]
}