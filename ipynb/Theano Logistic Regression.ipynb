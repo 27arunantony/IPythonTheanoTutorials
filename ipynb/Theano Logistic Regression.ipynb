{
 "metadata": {
  "name": "Theano Logistic Regression"
 }, 
 "nbformat": 2, 
 "worksheets": [
  {
   "cells": [
    {
     "cell_type": "code", 
     "collapsed": false, 
     "input": [
      "# Initial imports", 
      "import numpy as np", 
      "import theano.tensor as T", 
      "from theano import shared, function", 
      "rng = np.random.RandomState(123)", 
      ""
     ], 
     "language": "python", 
     "outputs": [], 
     "prompt_number": 4
    }, 
    {
     "cell_type": "code", 
     "collapsed": false, 
     "input": [
      "# Create a sample logistic regression problem.", 
      "true_w = rng.randn(100)", 
      "true_b = rng.randn()", 
      "xdata = rng.randn(50, 100)", 
      "ydata = (np.dot(xdata, true_w) + true_b) > 0.0"
     ], 
     "language": "python", 
     "outputs": [], 
     "prompt_number": 5
    }, 
    {
     "cell_type": "code", 
     "collapsed": false, 
     "input": [
      "# Step 1. Declare Theano variables", 
      "x = T.dmatrix()", 
      "y = T.dvector()", 
      "w = shared(rng.randn(100))", 
      "b = shared(numpy.zeros(()))", 
      "print \"Initial model\"", 
      "print w.get_value()", 
      "print b.get_value()", 
      ""
     ], 
     "language": "python", 
     "outputs": [], 
     "prompt_number": 10
    }, 
    {
     "cell_type": "code", 
     "collapsed": true, 
     "input": [
      "# Step 2. Construct Theano expression graph", 
      "p_1 = 1 / (1 + T.exp(-T.dot(x, w) - b))", 
      "xent = -y * T.log(p_1) - (1 - y) * T.log(1 - p_1)", 
      "prediction = p_1 > 0.5", 
      "cost = xent.mean() + 0.01 * (w ** 2).sum()", 
      "gw, gb = T.grad(cost, [w, b])"
     ], 
     "language": "python", 
     "outputs": [], 
     "prompt_number": 11
    }, 
    {
     "cell_type": "code", 
     "collapsed": true, 
     "input": [
      "# Step 3. Compile expressions to functions", 
      "train = function(inputs=[x, y],", 
      "                 outputs=[prediction, xent],", 
      "                 updates={w:w - 0.1 * gw,", 
      "                          b:b - 0.1 * gb})"
     ], 
     "language": "python", 
     "outputs": [], 
     "prompt_number": 12
    }, 
    {
     "cell_type": "code", 
     "collapsed": false, 
     "input": [
      "# Step 4. Perform computation", 
      "for loop in range(100):", 
      "    pval, xval = train(xdata, ydata)", 
      "    print xval.mean()"
     ], 
     "language": "python", 
     "outputs": [], 
     "prompt_number": 16
    }
   ]
  }
 ]
}