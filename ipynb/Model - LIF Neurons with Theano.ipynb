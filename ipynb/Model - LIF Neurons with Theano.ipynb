{
 "metadata": {
  "name": "Model - LIF Neurons with Theano"
 },
 "nbformat": 3,
 "nbformat_minor": 0,
 "worksheets": [
  {
   "cells": [
    {
     "cell_type": "markdown",
     "metadata": {},
     "source": [
      "# Model - Leaky Integrate-and-Fire Neurons with Theano\n",
      "\n",
      "Some quick hacking with Terry Stewart produced a Theano implementation of LIF neurons. He has added a more library-oriented version of this approach into Nengo, but this hacky code is probably still easier to read and play with."
     ]
    },
    {
     "cell_type": "code",
     "collapsed": false,
     "input": [
      "# -- Initial imports\n",
      "import numpy as np\n",
      "import theano\n",
      "import theano.tensor as TT\n",
      "from theano import shared, function"
     ],
     "language": "python",
     "metadata": {},
     "outputs": []
    },
    {
     "cell_type": "code",
     "collapsed": false,
     "input": [
      "# -- Set up our simulation to run with a particular precision\n",
      "\n",
      "floatX = theano.config.floatX  # either 'float32' or 'float64'\n",
      "\n",
      "def sharedX(obj, name):\n",
      "    \"\"\"Create shared variable for ndarray'd obj with dtype=floatX\n",
      "    \"\"\"\n",
      "    return shared(np.asarray(obj, dtype=floatX))"
     ],
     "language": "python",
     "metadata": {},
     "outputs": []
    },
    {
     "cell_type": "code",
     "collapsed": false,
     "input": [
      "# -- Assign simulation parameters\n",
      "#    Written in this way these will be *compiled in* to the\n",
      "#    tick() function below, as Theano *contants*.\n",
      "\n",
      "N = 100          # -- number of neurons\n",
      "D = 3            # -- state vector dimensionality\n",
      "\n",
      "t_rc = 0.01      # -- some capacitance constant\n",
      "t_ref = 0.001    # -- refractory period (1/max spike rate?)\n",
      "dt = 0.001       # -- simulation time-step\n",
      "pstc = 0.05      # -- post-synaptic time constant (low-pass filter on spikes in state update)\n",
      "\n",
      "encoders = np.random.randn(N, D).astype(floatX)\n",
      "decoders = np.random.randn(N, D).astype(floatX)"
     ],
     "language": "python",
     "metadata": {},
     "outputs": []
    },
    {
     "cell_type": "code",
     "collapsed": false,
     "input": [
      "# -- Define the recurrence of the LIF model\n",
      "\n",
      "# -- Place persistent quantities into shared variables \n",
      "state = sharedX(np.zeros(D), 'state')\n",
      "voltage = sharedX(np.zeros(N), 'voltage')\n",
      "refractory_time = sharedX(np.zeros(N), 'refractory_time')\n",
      "J_bias = sharedX(np.random.randn(N), 'J_bias')\n",
      "Jm_prev = sharedX(np.zeros(N), 'Jm_prev')\n",
      "\n",
      "state_w_bias = TT.set_subtensor(state[0], 0.5)\n",
      "\n",
      "Jm = TT.dot(encoders, state) + J_bias\n",
      "\n",
      "# -- Euler's method\n",
      "dV = dt / t_rc * (Jm_prev - voltage)\n",
      "new_v = TT.maximum(voltage + dV, 0)\n",
      "\n",
      "post_ref = 1.0 - (refractory_time - dt) / dt  \n",
      "\n",
      "# -- Do accurate timing for when the refractory period ends   (probably not needed for FPGA neuron model)\n",
      "new_v *= TT.clip(post_ref, 0, 1)\n",
      "\n",
      "V_threshold = 1\n",
      "\n",
      "spiked = TT.switch(new_v > V_threshold, 1.0, 0.0)\n",
      "\n",
      "# -- Refractory stuff\n",
      "overshoot = (new_v - V_threshold) / dV\n",
      "spiketime = dt * (1.0 - overshoot)\n",
      "new_refractory_time = TT.switch(spiked,\n",
      "            spiketime + t_ref,\n",
      "            refractory_time - dt)\n",
      "        \n",
      "# -- low-pass filter on state\n",
      "decay = float(np.exp(-dt / pstc))\n",
      "new_state = (state * decay\n",
      "             + (1 - decay) * TT.dot(spiked, decoders) / dt)"
     ],
     "language": "python",
     "metadata": {},
     "outputs": []
    },
    {
     "cell_type": "code",
     "collapsed": false,
     "input": [
      "# -- Compile a function to evaluate one time-step of the model\n",
      "\n",
      "tick = function([], [],\n",
      "                updates={\n",
      "                         voltage: new_v * (1 - spiked),\n",
      "                         state: new_state,\n",
      "                         refractory_time: new_refractory_time,\n",
      "                         Jm_prev: Jm})"
     ],
     "language": "python",
     "metadata": {},
     "outputs": []
    },
    {
     "cell_type": "code",
     "collapsed": false,
     "input": [
      "# -- Step through time, retrieving the voltage value.\n",
      "voltages = []\n",
      "for i in range(1000):\n",
      "    tick()\n",
      "    voltages.append(voltage.get_value())"
     ],
     "language": "python",
     "metadata": {},
     "outputs": []
    },
    {
     "cell_type": "code",
     "collapsed": false,
     "input": [
      "lines = plot(np.asarray(voltages).T)"
     ],
     "language": "python",
     "metadata": {},
     "outputs": []
    },
    {
     "cell_type": "code",
     "collapsed": false,
     "input": [],
     "language": "python",
     "metadata": {},
     "outputs": []
    }
   ],
   "metadata": {}
  }
 ]
}