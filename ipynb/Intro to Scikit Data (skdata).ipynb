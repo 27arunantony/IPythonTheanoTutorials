{
 "metadata": {
  "name": "Intro to Scikit Data (skdata)"
 },
 "nbformat": 3,
 "nbformat_minor": 0,
 "worksheets": [
  {
   "cells": [
    {
     "cell_type": "markdown",
     "metadata": {},
     "source": [
      "## Browsing through Data Sets\n",
      "\n",
      "The data sets we will use throughout these tutorials are provided via the\n",
      "[skdata](http://jaberg.github.com/skdata) package. The skdata package provides the logic of downloading,\n",
      "unpacking, and providing a meaningful Python interface to various public data\n",
      "sets.\n",
      "\n",
      "Running the following should show a picture of a boat, though it may have to first download the [CIFAR-10 XXX](XXX) data set in order to do it.\n",
      "Once the data set has been downloaded, it is stored in `~/.skdata/cifar10` for re-use. Browse through the data set by changing the index into `x`,\n",
      "or modify the code fragment to show more than one picture at a time.  We'll also be using [MNIST XXX](XXX) and the Google [Street View House Numbers (SVHN XXX)](XXX) data sets."
     ]
    },
    {
     "cell_type": "code",
     "collapsed": false,
     "input": [
      "from skdata.cifar10.views import OfficialImageClassificationTask\n",
      "task = OfficialImageClassificationTask()\n",
      "print 'Image shape', task.train.x[8].shape\n",
      "imshow(task.train.x[8], interpolation='nearest')"
     ],
     "language": "python",
     "metadata": {},
     "outputs": []
    },
    {
     "cell_type": "code",
     "collapsed": false,
     "input": [
      "from skdata.mnist.views import OfficialImageClassification\n",
      "task = OfficialImageClassification()\n",
      "print 'Digit shape', task.train.x[0].shape\n",
      "imshow(task.train.x[0][:,:,0], cmap=cm.gray, interpolation='nearest')"
     ],
     "language": "python",
     "metadata": {},
     "outputs": []
    },
    {
     "cell_type": "code",
     "collapsed": false,
     "input": [
      "from skdata.svhn.view import CroppedDigitsView2\n",
      "data_view = CroppedDigitsView2(x_dtype='float32', n_train=1000)\n",
      "imshow(data_view.train.x[0].reshape(32, 32, 3))"
     ],
     "language": "python",
     "metadata": {},
     "outputs": []
    },
    {
     "cell_type": "markdown",
     "metadata": {},
     "source": [
      "### Exercise 1\n",
      "\n",
      "How many examples are in each data set, how big is each one? How many floating point values are in each image?"
     ]
    },
    {
     "cell_type": "code",
     "collapsed": false,
     "input": [
      "# Write your answer here"
     ],
     "language": "python",
     "metadata": {},
     "outputs": []
    },
    {
     "cell_type": "markdown",
     "metadata": {},
     "source": [
      "### Exercise 2\n",
      "\n",
      "How are the examples of each data set sorted? Stochastic gradient descent is not very efficient when it iterates through all the examples of one class, then all the examples of the next class, etc. Do any of our data sets need to be shuffled?"
     ]
    },
    {
     "cell_type": "code",
     "collapsed": false,
     "input": [
      "# Write your answer here"
     ],
     "language": "python",
     "metadata": {},
     "outputs": []
    },
    {
     "cell_type": "markdown",
     "metadata": {},
     "source": [
      "### Exercise 3\n",
      "\n",
      "How are the pixel colors encoded in each data set? How are the labels encoded?  Tip: the labels are in `train.y`"
     ]
    },
    {
     "cell_type": "code",
     "collapsed": false,
     "input": [
      "# Write your answer here"
     ],
     "language": "python",
     "metadata": {},
     "outputs": []
    },
    {
     "cell_type": "markdown",
     "metadata": {},
     "source": [
      "### Exercise 4\n",
      "\n",
      "The task objects have a `test` attribute as well as the `train` attribute which contains the test set for estimating generalization by cross-validation. How big are the test sets?"
     ]
    },
    {
     "cell_type": "code",
     "collapsed": false,
     "input": [
      "# Write your answer here"
     ],
     "language": "python",
     "metadata": {},
     "outputs": []
    },
    {
     "cell_type": "markdown",
     "metadata": {},
     "source": [
      "### Exercise 5\n",
      "\n",
      "Something a bit more advanced - write a code fragment to lot the mean and variance in pixel values over the data set.  Start with MNIST, which is grey-scale. How would you do it for a color data set?  How do the pictures change when you look at per-class statistics?"
     ]
    },
    {
     "cell_type": "code",
     "collapsed": false,
     "input": [
      "# Write your answer here"
     ],
     "language": "python",
     "metadata": {},
     "outputs": []
    }
   ],
   "metadata": {}
  }
 ]
}