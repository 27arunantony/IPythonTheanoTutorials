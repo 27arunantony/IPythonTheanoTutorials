{
 "metadata": {
  "name": "Theano Tutorial (Part 1 - Introduction)"
 },
 "nbformat": 3,
 "nbformat_minor": 0,
 "worksheets": [
  {
   "cells": [
    {
     "cell_type": "markdown",
     "metadata": {},
     "source": [
      "# Theano Tutorial (Part 1 - Introduction)\n",
      "\n",
      "Theano is a Python library that allows you to define, optimize, and evaluate mathematical expressions involving multi-dimensional arrays efficiently. Theano features:\n",
      "\n",
      "* __tight integration with numpy__ \u2013 Use numpy.ndarray in Theano-compiled functions.\n",
      "* __transparent use of a GPU__ \u2013 Perform data-intensive calculations up to 140x faster than with CPU.(float32 only)\n",
      "* __efficient symbolic differentiation__ \u2013 Theano does your derivatives for function with one or many inputs.\n",
      "* __speed and stability optimizations__ \u2013 Get the right answer for log(1+x) even when x is really tiny.\n",
      "* __dynamic C code generation__ \u2013 Evaluate expressions faster.\n",
      "* __extensive unit-testing and self-verification__ \u2013 Detect and diagnose many types of mistake.\n",
      "\n",
      "Theano has been powering large-scale computationally intensive scientific investigations since 2007. "
     ]
    },
    {
     "cell_type": "markdown",
     "metadata": {},
     "source": [
      "## Download\n",
      "\n",
      "Theano is now available on \n",
      "<a href=\"http://pypi.python.org/pypi/Theano\">PyPI</a>, and can be installed via \n",
      "```\n",
      "$ easy_install Theano\n",
      "      -- or -- \n",
      "$ pip install Theano\n",
      "```\n",
      "\n",
      "or by downloading and unpacking the tarball and typing `python setup.py install`.\n",
      "\n",
      "Those interested in *bleeding-edge features* should obtain the latest development version, available via:\n",
      "```\n",
      "git clone git://github.com/Theano/Theano.git\n",
      "```\n",
      "\n",
      "You can then place the checkout directory on your `$PYTHONPATH` or use `python setup.py develop` to install a .pth into your site-packages directory, so that when you pull updates via Git, they will be automatically reflected the \u201cinstalled\u201d version. For more information about installation and configuration, see \n",
      "<a href=\"http://www.deeplearning.net/software/theano/install.html#install\">installing Theano</a>.\n",
      "\n",
      "When Theano is installed, you will be able to import it in Python like this:"
     ]
    },
    {
     "cell_type": "code",
     "collapsed": false,
     "input": [
      "import theano\n",
      "from theano import tensor as TT"
     ],
     "language": "python",
     "metadata": {},
     "outputs": []
    },
    {
     "cell_type": "markdown",
     "metadata": {},
     "source": [
      "## Credits\n",
      "\n",
      "Theano has been developed by the LISA Machine Learning group at the University of Montreal.\n",
      "\n",
      "* __Yoshua Bengio__ is the lab director who permitted and supported Theano's development.\n",
      "* __Olivier Breuleux__ and __James Bergstra__ wrote the initial versions (starting 2007).\n",
      "* __Frederic Bastien__ and now __Pascal Lamblin__ have taken over as the lead maintainers.\n",
      "* __Razvan Pascanur__ contributed the scan module, and much maintenance.\n",
      "\n",
      "<a href=\"https://github.com/Theano/Theano/graphs\">Many lab members and members of the Python community at large</a> have made significant and helpful contributions. "
     ]
    },
    {
     "cell_type": "markdown",
     "metadata": {},
     "source": [
      "## NumPy Background\n",
      "\n",
      "Here are some quick guides to NumPy:\n",
      "\n",
      "* <a href=http://www.scipy.org/NumPy_for_Matlab_Users>Numpy quick guide for Matlab users</a>\n",
      "\n",
      "* <a href=http://docs.scipy.org/doc/numpy/user/index.html>Numpy User Guide</a>\n",
      "\n",
      "* <a href=http://www.scipy.org/Tentative_NumPy_Tutorial>More detailed Numpy tutorial </a>"
     ]
    },
    {
     "cell_type": "markdown",
     "metadata": {},
     "source": [
      "### Matrix conventions for machine learning\n",
      "\n",
      "Rows are horizontal and columns are vertical.\n",
      "Every row is an example. Therefore, inputs[10,5] is a matrix of 10 examples \n",
      "where each example has dimension 5. If this would be the input of a\n",
      "neural network then the weights from the input to the first hidden\n",
      "layer would represent a matrix of size (5, #hid). \n",
      "\n",
      "Consider this array:"
     ]
    },
    {
     "cell_type": "code",
     "collapsed": false,
     "input": [
      "a = np.asarray([[1., 2], [3, 4], [5, 6]])\n",
      "print a\n",
      "print a.shape"
     ],
     "language": "python",
     "metadata": {},
     "outputs": []
    },
    {
     "cell_type": "markdown",
     "metadata": {},
     "source": [
      "This is a 3x2 matrix, i.e. there are 3 rows and 2 columns.\n",
      "\n",
      "To access the entry in the 3rd row (row #2) and the 1st column (column #0):"
     ]
    },
    {
     "cell_type": "code",
     "collapsed": false,
     "input": [
      "print a[2, 0]"
     ],
     "language": "python",
     "metadata": {},
     "outputs": []
    },
    {
     "cell_type": "markdown",
     "metadata": {},
     "source": [
      "To remember this, keep in mind that we read left-to-right, top-to-bottom,\n",
      "so each thing that is contiguous is a row.  That is, there are 3 rows\n",
      "and 2 columns."
     ]
    },
    {
     "cell_type": "markdown",
     "metadata": {},
     "source": [
      "###Broadcasting\n",
      "\n",
      "Numpy does *broadcasting* of arrays of different shapes during\n",
      "arithmetic operations. What this means in general is that the smaller \n",
      "array (or scalar) is *broadcasted* across the larger array so that they have\n",
      "compatible shapes. The example below shows an instance of\n",
      "*broadcastaing*:"
     ]
    },
    {
     "cell_type": "code",
     "collapsed": false,
     "input": [
      "a = numpy.asarray([1.0, 2.0, 3.0])\n",
      "b = 2.0\n",
      "print a * b"
     ],
     "language": "python",
     "metadata": {},
     "outputs": []
    },
    {
     "cell_type": "markdown",
     "metadata": {},
     "source": [
      "The smaller array ``b`` (actually a scalar here, which works like a 0-d array) in this case is *broadcasted* to the same size\n",
      "as ``a`` during the multiplication. This trick is often useful in\n",
      "simplifying how expression are written. More detail about *broadcasting*\n",
      "can be found in the <a href=http://docs.scipy.org/doc/numpy/user/basics.broadcasting.html>numpy user guide</a>."
     ]
    }
   ],
   "metadata": {}
  }
 ]
}