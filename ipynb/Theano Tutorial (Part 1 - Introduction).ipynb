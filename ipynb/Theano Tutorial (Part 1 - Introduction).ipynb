{
 "metadata": {
  "name": "Theano Tutorial (Part 1 - Introduction)"
 },
 "nbformat": 3,
 "nbformat_minor": 0,
 "worksheets": [
  {
   "cells": [
    {
     "cell_type": "markdown",
     "metadata": {},
     "source": [
      "# Theano Tutorial (Part 1 - Introduction)\n",
      "\n",
      "Theano is a Python module, so you can import it like this:"
     ]
    },
    {
     "cell_type": "code",
     "collapsed": false,
     "input": [
      "import theano"
     ],
     "language": "python",
     "metadata": {},
     "outputs": [],
     "prompt_number": 3
    },
    {
     "cell_type": "markdown",
     "metadata": {},
     "source": [
      "Several of the symbols you will need to use are in the `tensor` subpackage of Theano. Let's import that subpackage under a handy name like `T` (the tutorials will frequently use this convention)."
     ]
    },
    {
     "cell_type": "code",
     "collapsed": false,
     "input": [
      "from theano import tensor as T"
     ],
     "language": "python",
     "metadata": {},
     "outputs": [],
     "prompt_number": 4
    },
    {
     "cell_type": "markdown",
     "metadata": {},
     "source": [
      "If that succeeded you are ready for the tutorial, otherwise check your installation (see Installing Theano).\n",
      "\n",
      "Throughout the tutorial, bear in mind that there is a Glossary(XXX) as well as index(XXX) and modules(XXX) links in the upper-right corner of each page to help you out."
     ]
    },
    {
     "cell_type": "markdown",
     "metadata": {},
     "source": [
      "## NumPy Background\n",
      "\n",
      "Here are some quick guides to NumPy:\n",
      "\n",
      "* <a href=http://www.scipy.org/NumPy_for_Matlab_Users>Numpy quick guide for Matlab users</a>\n",
      "\n",
      "* <a href=http://docs.scipy.org/doc/numpy/user/index.html>Numpy User Guide</a>\n",
      "\n",
      "* <a href=http://www.scipy.org/Tentative_NumPy_Tutorial>More detailed Numpy tutorial </a>"
     ]
    },
    {
     "cell_type": "markdown",
     "metadata": {},
     "source": [
      "### Matrix conventions for machine learning\n",
      "\n",
      "Rows are horizontal and columns are vertical.\n",
      "Every row is an example. Therefore, inputs[10,5] is a matrix of 10 examples \n",
      "where each example has dimension 5. If this would be the input of a\n",
      "neural network then the weights from the input to the first hidden\n",
      "layer would represent a matrix of size (5, #hid). \n",
      "\n",
      "Consider this array:"
     ]
    },
    {
     "cell_type": "code",
     "collapsed": false,
     "input": [
      "a = np.asarray([[1., 2], [3, 4], [5, 6]])\n",
      "print a\n",
      "print a.shape"
     ],
     "language": "python",
     "metadata": {},
     "outputs": []
    },
    {
     "cell_type": "markdown",
     "metadata": {},
     "source": [
      "This is a 3x2 matrix, i.e. there are 3 rows and 2 columns.\n",
      "\n",
      "To access the entry in the 3rd row (row #2) and the 1st column (column #0):"
     ]
    },
    {
     "cell_type": "code",
     "collapsed": false,
     "input": [
      "print a[2, 0]"
     ],
     "language": "python",
     "metadata": {},
     "outputs": []
    },
    {
     "cell_type": "markdown",
     "metadata": {},
     "source": [
      "To remember this, keep in mind that we read left-to-right, top-to-bottom,\n",
      "so each thing that is contiguous is a row.  That is, there are 3 rows\n",
      "and 2 columns."
     ]
    },
    {
     "cell_type": "markdown",
     "metadata": {},
     "source": [
      "###Broadcasting\n",
      "\n",
      "Numpy does *broadcasting* of arrays of different shapes during\n",
      "arithmetic operations. What this means in general is that the smaller \n",
      "array (or scalar) is *broadcasted* across the larger array so that they have\n",
      "compatible shapes. The example below shows an instance of\n",
      "*broadcastaing*:"
     ]
    },
    {
     "cell_type": "code",
     "collapsed": false,
     "input": [
      "a = numpy.asarray([1.0, 2.0, 3.0])\n",
      "b = 2.0\n",
      "print a * b"
     ],
     "language": "python",
     "metadata": {},
     "outputs": []
    },
    {
     "cell_type": "markdown",
     "metadata": {},
     "source": [
      "The smaller array ``b`` (actually a scalar here, which works like a 0-d array) in this case is *broadcasted* to the same size\n",
      "as ``a`` during the multiplication. This trick is often useful in\n",
      "simplifying how expression are written. More detail about *broadcasting*\n",
      "can be found in the <a href=http://docs.scipy.org/doc/numpy/user/basics.broadcasting.html>numpy user guide</a>."
     ]
    }
   ],
   "metadata": {}
  }
 ]
}