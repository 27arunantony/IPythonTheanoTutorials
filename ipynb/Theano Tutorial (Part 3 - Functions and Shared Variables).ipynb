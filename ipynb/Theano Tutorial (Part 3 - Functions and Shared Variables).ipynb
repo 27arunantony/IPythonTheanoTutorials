{
 "metadata": {
  "name": "Theano Tutorial (Part 3 - Functions and Shared Variables)"
 },
 "nbformat": 3,
 "nbformat_minor": 0,
 "worksheets": [
  {
   "cells": [
    {
     "cell_type": "markdown",
     "metadata": {},
     "source": [
      "# Theano Tutorial (Part 3 - Functions and Shared Variables)\n",
      "\n",
      "The previous tutorials (Part 1, Part 2) have already used `theano.function` to create callable objects from Theano graphs. This tutorial will walk through the various capabilities of `function` and the important concept of `shared` variables.\n",
      "\n",
      "The <a href=\"http://deeplearning.net/software/theano/library/compile/function.html\">library documentation of `function`</a> is a good companion to this tutorial."
     ]
    },
    {
     "cell_type": "code",
     "collapsed": false,
     "input": [
      "# -- imports we need for this tutorial\n",
      "from theano import tensor as T\n",
      "from theano import function, shared"
     ],
     "language": "python",
     "metadata": {},
     "outputs": []
    },
    {
     "cell_type": "markdown",
     "metadata": {},
     "source": [
      "## Computing More than one Thing at the Same Time\n",
      "\n",
      "Theano supports functions with multiple outputs. For example, we can\n",
      "compute the elementwise difference, absolute difference, and\n",
      "squared difference between two matrices *a* and *b* at the same time.\n",
      "\n",
      "When we use the function `f`, it returns the three computed results as a list."
     ]
    },
    {
     "cell_type": "code",
     "collapsed": false,
     "input": [
      "a, b = T.dmatrices('a', 'b')\n",
      "diff = a - b\n",
      "abs_diff = abs(diff)\n",
      "diff_squared = diff ** 2\n",
      "\n",
      "f = function([a, b], [diff, abs_diff, diff_squared])\n",
      "\n",
      "print f([[1, 1], [1, 1]], [[0, 1], [2, 3]])"
     ],
     "language": "python",
     "metadata": {},
     "outputs": []
    },
    {
     "cell_type": "markdown",
     "metadata": {},
     "source": [
      "(Note that `dmatrices` produces as many outputs as names that you provide.\n",
      "It is a shortcut for allocating symbolic variables that we will often use in the tutorials,\n",
      "but it is not so typically used outside tutorial examples.)\n",
      " \n",
      " "
     ]
    },
    {
     "cell_type": "markdown",
     "metadata": {},
     "source": [
      "## Setting a Default Value for an Argument\n",
      " \n",
      "Let's say you want to define a function that adds two numbers, except\n",
      "that if you only provide one number, the other input is assumed to be\n",
      "one. In Python, the default value for parameters achieves this effect.\n",
      "In Theano you can achieve this effect with a `Param` object.\n",
      "\n",
      "This makes use of the <a href=\"http://deeplearning.net/software/theano/library/compile/io.html#function-inputs\">Param</a> class which allows\n",
      "you to specify properties of your function's parameters with greater detail. Here we\n",
      "give a default value of 1 for *y* by creating a ``Param`` instance with\n",
      "its ``default`` field set to 1. Inputs with default values must follow inputs without default\n",
      "values (like Python's functions).  There can be multiple inputs with default values. These parameters can\n",
      "be set positionally or by name, as in standard Python."
     ]
    },
    {
     "cell_type": "code",
     "collapsed": false,
     "input": [
      "# -- Theano version of lambda x, y=1: x + y\n",
      "\n",
      "from theano import Param\n",
      "x, y = T.dscalars('x', 'y')\n",
      "z = x + y\n",
      "f = function([x, Param(y, default=1)], z)\n",
      "\n",
      "print f(33)\n",
      "print f(33, 2)\n",
      "print f(34)"
     ],
     "language": "python",
     "metadata": {},
     "outputs": []
    },
    {
     "cell_type": "code",
     "collapsed": false,
     "input": [
      "# -- Theano version of lambda x, y=1, w_by_name=2: (x + y) * w\n",
      "x, y, w = T.dscalars('x', 'y', 'w')\n",
      "z = (x + y) * w\n",
      "g = function([x, Param(y, default=1), Param(w, default=2, name='w_by_name')], z)\n",
      "print g(33)\n",
      "print g(33, 2)\n",
      "print g(33, 0, 1)\n",
      "print g(33, w_by_name=1)\n",
      "print g(33, w_by_name=1, y=0)"
     ],
     "language": "python",
     "metadata": {},
     "outputs": []
    },
    {
     "cell_type": "markdown",
     "metadata": {},
     "source": [
      "N.B.`Param` does not know the name of the local variables *y* and *w*\n",
      "that are passed to it as arguments.  If the symbolic variable objects have name\n",
      "attributes (set by ``dscalars`` in the example above) then *these* are the\n",
      "names of the keyword parameters in the functions that we build.  This is\n",
      "the mechanism at work in ``Param(y, default=1)``.  In the case of \n",
      "``Param(w, default=2, name='w_by_name')``, we override the symbolic variable's name\n",
      "attribute with a new name to be used as the parameter name for `g`.)"
     ]
    },
    {
     "cell_type": "markdown",
     "metadata": {},
     "source": [
      "## Maintaining State with Shared Variables\n",
      "\n",
      "It is also possible to make a function with an internal state. For example, let\u2019s say we want to make an accumulator: at the beginning, the state is initialized to zero. Then, on each function call, the state is incremented by the function\u2019s argument.\n",
      "\n",
      "First let\u2019s define the accumulator function. It adds its argument to the internal state, and returns the old state value."
     ]
    },
    {
     "cell_type": "code",
     "collapsed": false,
     "input": [
      "from theano import shared\n",
      "state = shared(0)\n",
      "inc = T.iscalar('inc')\n",
      "accumulator = function([inc], state, updates=[(state, state+inc)])"
     ],
     "language": "python",
     "metadata": {},
     "outputs": []
    },
    {
     "cell_type": "markdown",
     "metadata": {},
     "source": [
      "This code introduces a few new concepts. The shared function constructs so-called shared variables. These are hybrid symbolic and non-symbolic variables whose value may be shared between multiple functions. Shared variables can be used in symbolic expressions just like the objects returned by dmatrices(...) but they also have an internal value that defines the value taken by this symbolic variable in all the functions that use it. It is called a shared variable because its value is shared between many functions. The value can be accessed and modified by the .get_value() and .set_value() methods. We will come back to this soon.\n",
      "\n",
      "The other new thing in this code is the updates parameter of function. updates must be supplied with a list of pairs of the form (shared-variable, new expression). It can also be a dictionary whose keys are shared-variables and values are the new expressions. Either way, it means \u201cwhenever this function runs, it will replace the .value of each shared variable with the result of the corresponding expression\u201d. Above, our accumulator replaces the state\u2018s value with the sum of the state and the increment amount.\n",
      "\n",
      "Let\u2019s try it out!"
     ]
    },
    {
     "cell_type": "code",
     "collapsed": false,
     "input": [
      "print state.get_value()\n",
      "print accumulator(1)\n",
      "print state.get_value()\n",
      "print accumulator(300)\n",
      "print state.get_value()"
     ],
     "language": "python",
     "metadata": {},
     "outputs": []
    },
    {
     "cell_type": "markdown",
     "metadata": {},
     "source": [
      "It is possible to reset the state. Just use the .set_value() method:"
     ]
    },
    {
     "cell_type": "code",
     "collapsed": false,
     "input": [
      "state.set_value(-1)\n",
      "print accumulator(3)\n",
      "print state.get_value()"
     ],
     "language": "python",
     "metadata": {},
     "outputs": []
    },
    {
     "cell_type": "markdown",
     "metadata": {},
     "source": [
      "As we mentioned above, you can define more than one function to use the same shared variable. These functions can all update the value."
     ]
    },
    {
     "cell_type": "code",
     "collapsed": false,
     "input": [
      "decrementor = function([inc], state, updates=[(state, state-inc)])\n",
      "print decrementor(2)\n",
      "print state.get_value()"
     ],
     "language": "python",
     "metadata": {},
     "outputs": []
    },
    {
     "cell_type": "markdown",
     "metadata": {},
     "source": [
      "You might be wondering why the updates mechanism exists. You can always achieve a similar result by returning the new expressions, and working with them in NumPy as usual. While the updates mechanism can be a syntactic convenience, it is mainly there for *efficiency*. Updates to shared variables can sometimes be done more quickly using in-place algorithms (e.g. low-rank matrix updates). Also, Theano has more control over where and how shared variables are allocated, which is one of the important elements of getting good performance on the GPU.\n",
      "\n",
      "## Replacing Subgraphs at Compile Time with `givens`\n",
      "\n",
      "It may happen that you expressed some formula using a shared variable, but you do not want to use its value. In this case, you can use the givens parameter of function which replaces a particular node in a graph for the purpose of one particular function."
     ]
    },
    {
     "cell_type": "code",
     "collapsed": false,
     "input": [
      "fn_of_state = state * 2 + inc\n",
      "foo = T.lscalar()        # the type (lscalar) must match the shared variable we\n",
      "                         # are replacing with the ``givens`` list\n",
      "skip_shared = function([inc, foo], fn_of_state, givens=[(state, foo)])\n",
      "print skip_shared(1, 3)  # we're using 3 for the state, not state.value\n",
      "print state.get_value()  # old state still there, we didn't use it\n"
     ],
     "language": "python",
     "metadata": {},
     "outputs": []
    },
    {
     "cell_type": "markdown",
     "metadata": {},
     "source": [
      "The givens parameter can be used to replace any symbolic variable, not just a shared variable. You can replace constants, and any other expression as long as the new expression has the same type as the one you are replacing.\n",
      "\n",
      "A good way of thinking about the givens is as a mechanism that allows you to replace any part of your formula with a different expression that evaluates to a tensor of same shape and dtype."
     ]
    },
    {
     "cell_type": "markdown",
     "metadata": {},
     "source": [
      "## Compilation Mode\n",
      "\n",
      "WIP, TODO, etc."
     ]
    }
   ],
   "metadata": {}
  }
 ]
}